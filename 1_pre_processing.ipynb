{
 "cells": [
  {
   "cell_type": "markdown",
   "metadata": {},
   "source": [
    "# In this File, every kernel are used to deal with one dataset"
   ]
  },
  {
   "cell_type": "markdown",
   "metadata": {},
   "source": [
    "# Coding Format\n",
    "\n",
    "## dataset name: \n",
    "## source:\n",
    "## need to run additional first (maybe establish prompt or change label format)\n",
    "## dataset discription: "
   ]
  },
  {
   "cell_type": "code",
   "execution_count": 17,
   "metadata": {},
   "outputs": [
    {
     "name": "stdout",
     "output_type": "stream",
     "text": [
      "\u001b[33m⚠️  Warning: 'huggingface-cli login' is deprecated. Use 'hf auth login' instead.\u001b[0m\n",
      "The token has not been saved to the git credentials helper. Pass `add_to_git_credential=True` in this function directly or `--add-to-git-credential` if using via `hf`CLI if you want to set the git credential as well.\n",
      "Token is valid (permission: read).\n",
      "The token `forgetting_dataset` has been saved to /Users/happywangforever/.cache/huggingface/stored_tokens\n",
      "Your token has been saved to /Users/happywangforever/.cache/huggingface/token\n",
      "Login successful.\n",
      "The current active token is: `forgetting_dataset`\n"
     ]
    }
   ],
   "source": [
    "# check the if folder \"dataset\" exist, if not establish one\n",
    "# should login first\n",
    "import os\n",
    "target_directory = \"dataset\"\n",
    "TRAIN_SPLIT = 0.65\n",
    "TEST_SPLIT = 0.25 \n",
    "VAL_SPLIT = 0.1\n",
    "random_state = 42\n",
    "HF_TOKEN = None\n",
    "# build directory\n",
    "os.makedirs(target_directory, exist_ok=True)\n",
    "# hf login \n",
    "!huggingface-cli login --token None"
   ]
  },
  {
   "cell_type": "code",
   "execution_count": 18,
   "metadata": {},
   "outputs": [],
   "source": [
    "## dataset name: \"AI4Sec/cti-bench\", \"cti-mcq\"\n",
    "## source: huggingface\n",
    "## need to run additional first (maybe establish prompt or change label format)\n",
    "## dataset discription: \n",
    "### \n",
    "from datasets import load_dataset, DatasetDict\n",
    "\n",
    "dataset_name = \"cti-mcq\"\n",
    "dataset = load_dataset(\"AI4Sec/cti-bench\", \"cti-mcq\")\n",
    "# data are in the \"test\"\n",
    "data = dataset['test']\n",
    "\n",
    "train_tempdata = data.train_test_split(test_size=(1 - TRAIN_SPLIT) , seed = random_state)\n",
    "train_dataset = train_tempdata['train']\n",
    "temp_dataset = train_tempdata['test']\n",
    "\n",
    "test_val_dataset = temp_dataset.train_test_split(test_size =  VAL_SPLIT / (VAL_SPLIT + TEST_SPLIT), seed=random_state)\n",
    "test_dataset = test_val_dataset['train']\n",
    "val_dataset = test_val_dataset['test']\n",
    "\n",
    "os.makedirs(os.path.join(target_directory, dataset_name), exist_ok=True)\n",
    "train_dataset = train_dataset.to_pandas()\n",
    "test_dataset = test_dataset.to_pandas()\n",
    "val_dataset = val_dataset.to_pandas()\n",
    "train_dataset['label'] = train_dataset['GT']\n",
    "test_dataset['label'] = test_dataset['GT']\n",
    "val_dataset['label'] = val_dataset['GT']\n",
    "train_dataset['prompt'] = train_dataset['Prompt']\n",
    "test_dataset['prompt'] = test_dataset['Prompt']\n",
    "val_dataset['prompt'] = val_dataset['Prompt']\n",
    "\n",
    "train_dataset.to_csv(os.path.join(target_directory, dataset_name, \"train.csv\"), index=False)\n",
    "test_dataset.to_csv(os.path.join(target_directory, dataset_name, \"test.csv\"), index=False)\n",
    "val_dataset.to_csv(os.path.join(target_directory, dataset_name, \"val.csv\"), index=False)\n"
   ]
  },
  {
   "cell_type": "code",
   "execution_count": 20,
   "metadata": {},
   "outputs": [
    {
     "name": "stderr",
     "output_type": "stream",
     "text": [
      "'(ReadTimeoutError(\"HTTPSConnectionPool(host='huggingface.co', port=443): Read timed out. (read timeout=10)\"), '(Request ID: 27a4a586-7781-4f51-8664-be3d5313fe9e)')' thrown while requesting HEAD https://huggingface.co/datasets/leduckhai/Sentiment-Reasoning/resolve/main/README.md\n",
      "Retrying in 1s [Retry 1/5].\n",
      "Generating train split: 5612 examples [00:00, 67812.22 examples/s]\n",
      "Generating test split: 2182 examples [00:00, 100327.46 examples/s]\n"
     ]
    }
   ],
   "source": [
    "## dataset name: Sentiment-Reasoning\"\n",
    "## source: huggingface\n",
    "## need to run additional first (maybe establish prompt or change label format)\n",
    "## dataset discription: \n",
    "### data do not contain prompt > make prompt for the dataset first than break them \n",
    "### use English to build the prompt, label as label\n",
    "import pandas as pd\n",
    "full_dataset = load_dataset(\"leduckhai/Sentiment-Reasoning\")\n",
    "from sklearn.model_selection import train_test_split\n",
    "dataset_name = \"sentiment-reasoning\"\n",
    "total_dataset = pd.concat([full_dataset['train'].to_pandas(), full_dataset['test'].to_pandas()])\n",
    "prompt = \"\"\"You are given a classification task from a Sentiment-Reasoning benchmark dataset. \n",
    "Your task is to choose the best option among the three categories provided. \n",
    "Return your answer as a single uppercase letter: E, F or G.\n",
    "\n",
    "**Question:** {Question} \n",
    "**Options:** E) negative F) neutral G) positive \n",
    "\n",
    "**Important:** The last line of your answer should contain only one letter from the Options, with no additional text.\n",
    "\"\"\"\n",
    "\n",
    "total_dataset['prompt'] = total_dataset['English'].apply(lambda x: prompt.format(Question = x))\n",
    "\n",
    "train_data, temp_data = train_test_split(total_dataset, test_size= (1-TRAIN_SPLIT),random_state=random_state)\n",
    "test_data, val_data = train_test_split(temp_data, test_size =  VAL_SPLIT / (VAL_SPLIT + TEST_SPLIT), random_state=random_state)\n",
    "\n",
    "\n",
    "train_data.to_csv(os.path.join(target_directory, dataset_name, \"train.csv\"), index=False)\n",
    "test_data.to_csv(os.path.join(target_directory, dataset_name, \"test.csv\"), index=False)\n",
    "val_data.to_csv(os.path.join(target_directory, dataset_name, \"val.csv\"), index=False)\n"
   ]
  },
  {
   "cell_type": "code",
   "execution_count": null,
   "metadata": {},
   "outputs": [],
   "source": []
  },
  {
   "cell_type": "code",
   "execution_count": null,
   "metadata": {},
   "outputs": [],
   "source": []
  }
 ],
 "metadata": {
  "kernelspec": {
   "display_name": "forgetting",
   "language": "python",
   "name": "python3"
  },
  "language_info": {
   "codemirror_mode": {
    "name": "ipython",
    "version": 3
   },
   "file_extension": ".py",
   "mimetype": "text/x-python",
   "name": "python",
   "nbconvert_exporter": "python",
   "pygments_lexer": "ipython3",
   "version": "3.12.11"
  }
 },
 "nbformat": 4,
 "nbformat_minor": 2
}
