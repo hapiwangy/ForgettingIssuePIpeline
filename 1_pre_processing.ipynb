{
 "cells": [
  {
   "cell_type": "markdown",
   "metadata": {},
   "source": [
    "# In this File, every kernel are used to deal with one dataset"
   ]
  },
  {
   "cell_type": "markdown",
   "metadata": {},
   "source": [
    "# Coding Format\n",
    "\n",
    "## dataset name: \n",
    "## source:\n",
    "## need to run additional first (maybe establish prompt or change label format)\n",
    "## dataset discription: "
   ]
  },
  {
   "cell_type": "code",
   "execution_count": null,
   "metadata": {},
   "outputs": [
    {
     "name": "stdout",
     "output_type": "stream",
     "text": [
      "\u001b[33m⚠️  Warning: 'huggingface-cli login' is deprecated. Use 'hf auth login' instead.\u001b[0m\n"
     ]
    },
    {
     "name": "stderr",
     "output_type": "stream",
     "text": [
      "The token has not been saved to the git credentials helper. Pass `add_to_git_credential=True` in this function directly or `--add-to-git-credential` if using via `hf`CLI if you want to set the git credential as well.\n",
      "Token is valid (permission: write).\n",
      "The token `llama-3.2test` has been saved to C:\\Users\\User\\.cache\\huggingface\\stored_tokens\n",
      "Your token has been saved to C:\\Users\\User\\.cache\\huggingface\\token\n",
      "Login successful.\n",
      "The current active token is: `llama-3.2test`\n"
     ]
    }
   ],
   "source": [
    "# check the if folder \"dataset\" exist, if not establish one\n",
    "# should login first\n",
    "import os\n",
    "import pandas as pd\n",
    "target_directory = \"dataset\"\n",
    "TRAIN_SPLIT = 0.65\n",
    "TEST_SPLIT = 0.25 \n",
    "VAL_SPLIT = 0.1\n",
    "random_state = 42\n",
    "HF_TOKEN = \"\"\n",
    "# build directory\n",
    "os.makedirs(target_directory, exist_ok=True)\n",
    "# hf login \n",
    "!huggingface-cli login --token "
   ]
  },
  {
   "cell_type": "code",
   "execution_count": 10,
   "metadata": {},
   "outputs": [],
   "source": [
    "def size_checker(train:pd.DataFrame, test:pd.DataFrame, val:pd.DataFrame):\n",
    "    print(\n",
    "        f\"The numeber of Train Dataset is: {train.shape[0]}\\nThe numeber of Test Dataset is: {test.shape[0]}\\nThe number of Val dataset is: {val.shape[0]}\\n\"\n",
    "        )"
   ]
  },
  {
   "cell_type": "code",
   "execution_count": 11,
   "metadata": {},
   "outputs": [
    {
     "name": "stdout",
     "output_type": "stream",
     "text": [
      "The numeber of Train Dataset is: 1625\n",
      "The numeber of Test Dataset is: 624\n",
      "The number of Val dataset is: 251\n",
      "\n"
     ]
    }
   ],
   "source": [
    "## dataset name: \"AI4Sec/cti-bench\", \"cti-mcq\"\n",
    "## source: huggingface\n",
    "## need to run additional first (maybe establish prompt or change label format)\n",
    "## dataset discription: \n",
    "### \n",
    "from datasets import load_dataset, DatasetDict\n",
    "\n",
    "dataset_name = \"cti-mcq\"\n",
    "dataset = load_dataset(\"AI4Sec/cti-bench\", \"cti-mcq\")\n",
    "# data are in the \"test\"\n",
    "data = dataset['test']\n",
    "\n",
    "train_tempdata = data.train_test_split(test_size=(1 - TRAIN_SPLIT) , seed = random_state)\n",
    "train_dataset = train_tempdata['train']\n",
    "temp_dataset = train_tempdata['test']\n",
    "\n",
    "test_val_dataset = temp_dataset.train_test_split(test_size =  VAL_SPLIT / (VAL_SPLIT + TEST_SPLIT), seed=random_state)\n",
    "test_dataset = test_val_dataset['train']\n",
    "val_dataset = test_val_dataset['test']\n",
    "\n",
    "os.makedirs(os.path.join(target_directory, dataset_name), exist_ok=True)\n",
    "train_dataset = train_dataset.to_pandas()\n",
    "test_dataset = test_dataset.to_pandas()\n",
    "val_dataset = val_dataset.to_pandas()\n",
    "train_dataset['label'] = train_dataset['GT']\n",
    "test_dataset['label'] = test_dataset['GT']\n",
    "val_dataset['label'] = val_dataset['GT']\n",
    "train_dataset['prompt'] = train_dataset['Prompt']\n",
    "test_dataset['prompt'] = test_dataset['Prompt']\n",
    "val_dataset['prompt'] = val_dataset['Prompt']\n",
    "\n",
    "train_dataset.to_csv(os.path.join(target_directory, dataset_name, \"train.csv\"), index=False)\n",
    "test_dataset.to_csv(os.path.join(target_directory, dataset_name, \"test.csv\"), index=False)\n",
    "val_dataset.to_csv(os.path.join(target_directory, dataset_name, \"val.csv\"), index=False)\n",
    "size_checker(train_dataset, test_dataset, val_dataset)"
   ]
  },
  {
   "cell_type": "code",
   "execution_count": 12,
   "metadata": {},
   "outputs": [
    {
     "name": "stdout",
     "output_type": "stream",
     "text": [
      "The numeber of Train Dataset is: 5066\n",
      "The numeber of Test Dataset is: 1948\n",
      "The number of Val dataset is: 780\n",
      "\n"
     ]
    }
   ],
   "source": [
    "## dataset name: Sentiment-Reasoning\"\n",
    "## source: huggingface\n",
    "## need to run additional first (maybe establish prompt or change label format)\n",
    "## dataset discription: \n",
    "### data do not contain prompt > make prompt for the dataset first than break them \n",
    "### use English to build the prompt, label as label\n",
    "import pandas as pd\n",
    "full_dataset = load_dataset(\"leduckhai/Sentiment-Reasoning\")\n",
    "from sklearn.model_selection import train_test_split\n",
    "dataset_name = \"sentiment-reasoning\"\n",
    "total_dataset = pd.concat([full_dataset['train'].to_pandas(), full_dataset['test'].to_pandas()])\n",
    "prompt = \"\"\"You are given a classification task from a Sentiment-Reasoning benchmark dataset. \n",
    "Your task is to choose the best option among the three categories provided. \n",
    "Return your answer as a single uppercase letter: E, F or G.\n",
    "\n",
    "**Question:** {Question} \n",
    "**Options:** E) negative F) neutral G) positive \n",
    "\n",
    "**Important:** The last line of your answer should contain only one letter from the Options, with no additional text.\n",
    "\"\"\"\n",
    "\n",
    "total_dataset['prompt'] = total_dataset['English'].apply(lambda x: prompt.format(Question = x))\n",
    "\n",
    "train_data, temp_data = train_test_split(total_dataset, test_size= (1-TRAIN_SPLIT),random_state=random_state)\n",
    "test_data, val_data = train_test_split(temp_data, test_size =  VAL_SPLIT / (VAL_SPLIT + TEST_SPLIT), random_state=random_state)\n",
    "\n",
    "os.makedirs(os.path.join(target_directory, dataset_name), exist_ok=True)\n",
    "\n",
    "train_data.to_csv(os.path.join(target_directory, dataset_name, \"train.csv\"), index=False)\n",
    "test_data.to_csv(os.path.join(target_directory, dataset_name, \"test.csv\"), index=False)\n",
    "val_data.to_csv(os.path.join(target_directory, dataset_name, \"val.csv\"), index=False)\n",
    "size_checker(train_data, test_data, val_data)"
   ]
  },
  {
   "cell_type": "code",
   "execution_count": null,
   "metadata": {},
   "outputs": [
    {
     "name": "stdout",
     "output_type": "stream",
     "text": [
      "The numeber of Train Dataset is: 111270\n",
      "The numeber of Test Dataset is: 42797\n",
      "The number of Val dataset is: 17119\n",
      "\n"
     ]
    }
   ],
   "source": [
    "# ## dataset name: allenai/art\n",
    "# ## source: huggingface\n",
    "# ## dataset discription: \n",
    "# ### data do not contain prompt > make prompt for the dataset first than break them \n",
    "# from datasets import load_dataset\n",
    "# import pandas as pd\n",
    "# dataset_name = \"allenai-art\"\n",
    "# full_dataset = load_dataset(\"allenai/art\")\n",
    "\n",
    "# prompt = \"\"\"You are given a task from an Abductive Reasoning benchmark dataset. \n",
    "# Your task is to read the story and choose the most plausible hypothesis that explains it. \n",
    "# Return your answer as simple words: HA or HB.\n",
    "\n",
    "# **Story:** {observation_1} {observation_2}\n",
    "# **Options:** \n",
    "# HA) {hypothesis_1} HB) {hypothesis_2}\n",
    "\n",
    "# **Important:** The last line of your answer should contain only HA or HB, with no additional text.\n",
    "# \"\"\"\n",
    "# total_dataset = pd.concat([full_dataset['train'].to_pandas(), full_dataset['validation'].to_pandas()])\n",
    "# def make_prompt(element):\n",
    "#     return prompt.format(\n",
    "#         observation_1 = element['observation_1'],\n",
    "#         observation_2 = element['observation_2'],\n",
    "#         hypothesis_1 = element['hypothesis_1'],\n",
    "#         hypothesis_2 = element['hypothesis_2']\n",
    "#         )\n",
    "# total_dataset['prompt'] = total_dataset.apply(make_prompt, axis = 1)\n",
    "# total_dataset['label'] = total_dataset['label'].apply(lambda x: {'1':'HA', '2':'HB'}[str(x)])\n",
    "# train_data, temp_data = train_test_split(total_dataset, test_size= (1-TRAIN_SPLIT),random_state=random_state)\n",
    "# test_data, val_data = train_test_split(temp_data, test_size =  VAL_SPLIT / (VAL_SPLIT + TEST_SPLIT), random_state=random_state)\n",
    "\n",
    "# os.makedirs(os.path.join(target_directory, dataset_name), exist_ok=True)\n",
    "\n",
    "# train_data.to_csv(os.path.join(target_directory, dataset_name, \"train.csv\"), index=False)\n",
    "# test_data.to_csv(os.path.join(target_directory, dataset_name, \"test.csv\"), index=False)\n",
    "# val_data.to_csv(os.path.join(target_directory, dataset_name, \"val.csv\"), index=False)\n",
    "# size_checker(train_data, test_data, val_data)"
   ]
  },
  {
   "cell_type": "code",
   "execution_count": null,
   "metadata": {},
   "outputs": [
    {
     "name": "stdout",
     "output_type": "stream",
     "text": [
      "The numeber of Train Dataset is: 121553\n",
      "The numeber of Test Dataset is: 46751\n",
      "The number of Val dataset is: 18701\n",
      "\n"
     ]
    }
   ],
   "source": [
    "# skip for now, since this dataset is too big and overlap with the other one\n",
    "# ## dataset name: openlifescienceai/medmcqa > osai-medmcqa\n",
    "# ## source: huggingface\n",
    "# ## dataset discription: \n",
    "# ### data do not contain prompt > make prompt for the dataset first than break them \n",
    "# from datasets import load_dataset\n",
    "# import pandas as pd\n",
    "# dataset_name = \"osai-medmcqa\"\n",
    "# full_dataset = load_dataset(\"openlifescienceai/medmcqa\")\n",
    "# total_dataset = pd.concat([full_dataset['train'].to_pandas(), full_dataset['validation'].to_pandas(), full_dataset['test'].to_pandas()])\n",
    "# total_dataset = total_dataset[total_dataset['cop'] != -1]\n",
    "# prompt = \"\"\"\n",
    "# You are given a medical multiple-choice question from MedMCQA.\n",
    "# Your task is to read the question and choose the most plausible answer. \n",
    "# Return your answer as simple words(OPA, OPB, OPC, or OPD).\n",
    "# **Question:** {question}\n",
    "# **Options:**\n",
    "# OPA) {opa}\n",
    "# OPB) {opb}\n",
    "# OPC) {opc}\n",
    "# OPD) {opd}\n",
    "# **Important:** The last line of your answer should contain only OPA, OPB, OPC, or OPD, with no additional text.\n",
    "# \"\"\"\n",
    "# def make_prompt(element):\n",
    "#     return prompt.format(\n",
    "#         question = element['question'],\n",
    "#         opa = element['opa'],\n",
    "#         opb = element['opb'],\n",
    "#         opc = element['opc'],\n",
    "#         opd = element['opd']\n",
    "#     )\n",
    "# total_dataset['prompt'] = total_dataset.apply(make_prompt, axis = 1)\n",
    "# num2option = {\n",
    "#     '0':'OPA',\n",
    "#     '1':'OPB',\n",
    "#     '2':'OPC',\n",
    "#     '3':'OPD'\n",
    "# }\n",
    "# total_dataset['label'] = total_dataset['cop'].apply(lambda x : num2option[str(x)])\n",
    "# train_data, temp_data = train_test_split(total_dataset, test_size= (1-TRAIN_SPLIT),random_state=random_state)\n",
    "# test_data, val_data = train_test_split(temp_data, test_size =  VAL_SPLIT / (VAL_SPLIT + TEST_SPLIT), random_state=random_state)\n",
    "\n",
    "# os.makedirs(os.path.join(target_directory, dataset_name), exist_ok=True)\n",
    "\n",
    "# train_data.to_csv(os.path.join(target_directory, dataset_name, \"train.csv\"), index=False)\n",
    "# test_data.to_csv(os.path.join(target_directory, dataset_name, \"test.csv\"), index=False)\n",
    "# val_data.to_csv(os.path.join(target_directory, dataset_name, \"val.csv\"), index=False)\n",
    "# size_checker(train_data, test_data, val_data)"
   ]
  },
  {
   "cell_type": "code",
   "execution_count": 15,
   "metadata": {},
   "outputs": [
    {
     "name": "stdout",
     "output_type": "stream",
     "text": [
      "The numeber of Train Dataset is: 8066\n",
      "The numeber of Test Dataset is: 3102\n",
      "The number of Val dataset is: 1242\n",
      "\n"
     ]
    }
   ],
   "source": [
    "## dataset name: textmachinelab/quail > tmlab-quail\n",
    "## source: huggingface\n",
    "## dataset discription: \n",
    "### data do not contain prompt > make prompt for the dataset first than break them \n",
    "from datasets import load_dataset\n",
    "dataset_name = \"tmlab-quail\"\n",
    "full_dataset = load_dataset(\"textmachinelab/quail\")\n",
    "total_dataset = pd.concat([full_dataset['train'].to_pandas(), full_dataset['validation'].to_pandas()])\n",
    "prompt = \"\"\"\n",
    "You are given a medical multiple-choice question from quail.\n",
    "Your task is to read the Context and choose the most plausible answer to the Question.\n",
    "Return your answer as simple words(OP1, OP2, OP3, or OP4).\n",
    "**Context:** {context}\n",
    "**Question:** {question}\n",
    "**Options:**\n",
    "OP1) {OP1} \n",
    "OP2) {OP2}\n",
    "OP3) {OP3}\n",
    "op4) {OP4}\n",
    "**Important:** The last line of your answer should contain only OP1, OP2, OP3, or OP4, with no additional text.\n",
    "\"\"\"\n",
    "num2answer = {\n",
    "    '0':'OP1',\n",
    "    '1':'OP2',\n",
    "    '2':'OP3',\n",
    "    '3':'OP4'\n",
    "}\n",
    "def make_prompt(element):\n",
    "    answer = list(element['answers'])\n",
    "    return prompt.format(\n",
    "        context = element['context'],\n",
    "        question = element['question'],\n",
    "        OP1 = answer[0],\n",
    "        OP2 = answer[1],\n",
    "        OP3 = answer[2],\n",
    "        OP4 = answer[3],\n",
    "    )\n",
    "total_dataset['prompt'] = total_dataset.apply(make_prompt, axis = 1)\n",
    "total_dataset['label'] = total_dataset['correct_answer_id'].apply(lambda x: num2answer[str(x)])\n",
    "train_data, temp_data = train_test_split(total_dataset, test_size= (1-TRAIN_SPLIT),random_state=random_state)\n",
    "test_data, val_data = train_test_split(temp_data, test_size =  VAL_SPLIT / (VAL_SPLIT + TEST_SPLIT), random_state=random_state)\n",
    "\n",
    "os.makedirs(os.path.join(target_directory, dataset_name), exist_ok=True)\n",
    "\n",
    "train_data.to_csv(os.path.join(target_directory, dataset_name, \"train.csv\"), index=False)\n",
    "test_data.to_csv(os.path.join(target_directory, dataset_name, \"test.csv\"), index=False)\n",
    "val_data.to_csv(os.path.join(target_directory, dataset_name, \"val.csv\"), index=False)\n",
    "size_checker(train_data, test_data, val_data)"
   ]
  },
  {
   "cell_type": "code",
   "execution_count": 16,
   "metadata": {},
   "outputs": [
    {
     "name": "stdout",
     "output_type": "stream",
     "text": [
      "The numeber of Train Dataset is: 4857\n",
      "The numeber of Test Dataset is: 1868\n",
      "The number of Val dataset is: 748\n",
      "\n"
     ]
    }
   ],
   "source": [
    "## dataset name: openai/gsm8k-main > openai-gsm8k\n",
    "## source: huggingface\n",
    "## dataset discription: \n",
    "### data do not contain prompt > make prompt for the dataset first than break them \n",
    "from datasets import load_dataset\n",
    "dataset_name = \"openai-gsm8k\"\n",
    "full_dataset = load_dataset(\"openai/gsm8k\", \"main\")\n",
    "total_dataset = full_dataset['train'].to_pandas()\n",
    "prompt = \"\"\"\n",
    "You are given a math question from gsm8k dataset.\n",
    "Your task is to read the Context and answer the math question.\n",
    "Just give the short answer as the response, try as simple as possible.\n",
    "**Question:** {question}\n",
    "**Important:** The last line of your answer should contain only the answer to the question, with no further explaination.\n",
    "\"\"\"\n",
    "def make_prompt(element):\n",
    "    return prompt.format(\n",
    "        question = element['question']\n",
    "    )\n",
    "def dealingwithanswer(element):\n",
    "    position = element.find('####')\n",
    "    return element[position + len('####'):]\n",
    "total_dataset['prompt'] = total_dataset.apply(make_prompt, axis=1)\n",
    "total_dataset['label'] = total_dataset['answer'].apply(dealingwithanswer)\n",
    "train_data, temp_data = train_test_split(total_dataset, test_size= (1-TRAIN_SPLIT),random_state=random_state)\n",
    "test_data, val_data = train_test_split(temp_data, test_size =  VAL_SPLIT / (VAL_SPLIT + TEST_SPLIT), random_state=random_state)\n",
    "\n",
    "os.makedirs(os.path.join(target_directory, dataset_name), exist_ok=True)\n",
    "\n",
    "train_data.to_csv(os.path.join(target_directory, dataset_name, \"train.csv\"), index=False)\n",
    "test_data.to_csv(os.path.join(target_directory, dataset_name, \"test.csv\"), index=False)\n",
    "val_data.to_csv(os.path.join(target_directory, dataset_name, \"val.csv\"), index=False)\n",
    "size_checker(train_data, test_data, val_data)"
   ]
  },
  {
   "cell_type": "code",
   "execution_count": null,
   "metadata": {},
   "outputs": [],
   "source": []
  }
 ],
 "metadata": {
  "kernelspec": {
   "display_name": "llamatest",
   "language": "python",
   "name": "python3"
  },
  "language_info": {
   "codemirror_mode": {
    "name": "ipython",
    "version": 3
   },
   "file_extension": ".py",
   "mimetype": "text/x-python",
   "name": "python",
   "nbconvert_exporter": "python",
   "pygments_lexer": "ipython3",
   "version": "3.12.11"
  }
 },
 "nbformat": 4,
 "nbformat_minor": 2
}
